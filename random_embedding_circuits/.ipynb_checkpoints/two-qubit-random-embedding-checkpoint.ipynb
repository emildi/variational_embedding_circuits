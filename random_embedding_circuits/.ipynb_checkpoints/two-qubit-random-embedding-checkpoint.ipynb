{
 "cells": [
  {
   "cell_type": "code",
   "execution_count": 1,
   "metadata": {},
   "outputs": [],
   "source": [
    "import pennylane as qml\n",
    "from pennylane import numpy as np\n",
    "from two_wires_random_unitary_embeddings import random_gate_sequence, random_embedding_circuit\n",
    "import matplotlib.pyplot as plt\n",
    "import seaborn as sns\n",
    "sns.set(context='notebook', font='serif')\n",
    "import dill as pickle"
   ]
  },
  {
   "cell_type": "code",
   "execution_count": 3,
   "metadata": {},
   "outputs": [],
   "source": [
    "CSWAP = np.array([[1, 0, 0, 0, 0, 0, 0, 0],\n",
    "                  [0, 1, 0, 0, 0, 0, 0, 0],\n",
    "                  [0, 0, 1, 0, 0, 0, 0, 0],\n",
    "                  [0, 0, 0, 1, 0, 0, 0, 0],\n",
    "                  [0, 0, 0, 0, 1, 0, 0, 0],\n",
    "                  [0, 0, 0, 0, 0, 0, 1, 0],\n",
    "                  [0, 0, 0, 0, 0, 1, 0, 0],\n",
    "                  [0, 0, 0, 0, 0, 0, 0, 1]])"
   ]
  },
  {
   "cell_type": "code",
   "execution_count": 4,
   "metadata": {},
   "outputs": [],
   "source": [
    "def featmap(x,weights,wires,gate_sequence):\n",
    "    \"\"\"Wrapper for feature map to define specific keyword arguments.\"\"\"\n",
    "    return random_embedding_circuit(x,weights,wires,gate_sequence)"
   ]
  },
  {
   "cell_type": "code",
   "execution_count": 5,
   "metadata": {},
   "outputs": [],
   "source": [
    "seed = 42  # random seed for reproducibility\n",
    "n_layers = 2  # number of layers for featuremap, if applicable\n",
    "n_inp = 2  # number of wires that feature map acts on\n",
    "n_steps = 200  # steps of GD performed\n",
    "log_step = 5  # how often the test error is calculated\n",
    "batch_size = 2  # how many pairs are sampled in each training step\n",
    "step_size = 0.02 # learning rate\n",
    "n_all = 2*n_inp + 1\n",
    "\n",
    "\n",
    "dev = qml.device('default.qubit', wires=n_all)\n",
    "optimizer = qml.RMSPropOptimizer(stepsize=step_size)"
   ]
  },
  {
   "cell_type": "code",
   "execution_count": 7,
   "metadata": {},
   "outputs": [],
   "source": [
    "X = np.loadtxt(\"X_1d_sep.txt\")  # load features\n",
    "Y = np.loadtxt(\"Y_1d_sep.txt\")  # load labels\n",
    "\n",
    "# Divide inputs into classes\n",
    "\n",
    "A = X[Y == -1]\n",
    "B = X[Y == 1]"
   ]
  },
  {
   "cell_type": "code",
   "execution_count": 8,
   "metadata": {},
   "outputs": [],
   "source": [
    "# initial parameters are taken to be small\n",
    "init_pars = []\n",
    "for i in range(n_layers):\n",
    "    pars = [0.001 for j in range(n_inp)]\n",
    "    init_pars.append(pars)"
   ]
  },
  {
   "cell_type": "code",
   "execution_count": null,
   "metadata": {},
   "outputs": [],
   "source": [
    "# Fixing seed for reproducability\n",
    "np.random.seed(seed)\n",
    "#This generates a random sequence of gate. \n",
    "random_gate_sequence = random_gate_sequence(n_inp,n_layers)"
   ]
  },
  {
   "cell_type": "code",
   "execution_count": 11,
   "metadata": {},
   "outputs": [],
   "source": [
    "@qml.qnode(dev, cache=True)\n",
    "def circuit(weights, x1=None, x2=None,gate_sequence=None):\n",
    "\n",
    "    # Load the two inputs into two different registers\n",
    "    featmap(x1,weights, range(1, n_inp+1),gate_sequence)\n",
    "    featmap(x2,weights, range(n_inp+1, 2*n_inp+1),gate_sequence)\n",
    "\n",
    "    # Do a SWAP test\n",
    "    qml.Hadamard(wires=0)\n",
    "    for k in range(n_inp):\n",
    "        qml.QubitUnitary(CSWAP, wires=[0, k+1, n_inp+k+1])\n",
    "    qml.Hadamard(wires=0)\n",
    "\n",
    "    # Measure overlap by checking ancilla\n",
    "    return qml.expval(qml.PauliZ(0))\n",
    "\n",
    "def tr_rr(weights, A=None,gate_sequence=None):\n",
    "    # Compute intra-class overlap A\n",
    "    tr_rr = 0\n",
    "    for a1 in A:\n",
    "        for a2 in A:\n",
    "            tr_rr += circuit(weights, x1=a1, x2=a2,gate_sequence=gate_sequence)\n",
    "    tr_rr = tr_rr / len(A)**2\n",
    "    return tr_rr\n",
    "\n",
    "def tr_ss(weights, B=None,gate_sequence=None):\n",
    "    # Compute intra-class overlap B\n",
    "    tr_ss = 0\n",
    "    for b1 in B:\n",
    "        for b2 in B:\n",
    "            tr_ss += circuit(weights, x1=b1, x2=b2,gate_sequence=gate_sequence)\n",
    "    tr_ss = tr_ss/len(B)**2\n",
    "    return tr_ss\n",
    "\n",
    "def tr_rs(weights, A=None, B=None,gate_sequence=None):\n",
    "    # Compute inter-class overlap A-B\n",
    "    tr_rs = 0\n",
    "    for a in A:\n",
    "        for b in B:\n",
    "            tr_rs += circuit(weights, x1=a, x2=b,gate_sequence=gate_sequence)\n",
    "    tr_rs = tr_rs/(len(A)*len(B))\n",
    "    return tr_rs\n",
    "\n",
    "def cost(weights, A=None, B=None,gate_sequence=None):\n",
    "\n",
    "    # Fidelity cost,\n",
    "    rr = tr_rr(weights, A=A,gate_sequence=gate_sequence)\n",
    "    ss = tr_ss(weights, B=B,gate_sequence=gate_sequence)\n",
    "    rs = tr_rs(weights, A=A, B=B,gate_sequence=gate_sequence)\n",
    "    distance = - rs + 0.5 * (ss + rr)\n",
    "    return 1 - distance  # min is 0"
   ]
  },
  {
   "cell_type": "code",
   "execution_count": 18,
   "metadata": {},
   "outputs": [
    {
     "name": "stdout",
     "output_type": "stream",
     "text": [
      "Step 0 -- rs 0.190116-- rr 0.521261 -- ss 0.861625 -- cst 0.498673\n",
      "Step 5 -- rs 0.158762-- rr 0.540512 -- ss 0.839327 -- cst 0.468843\n",
      "Step 10 -- rs 0.145454-- rr 0.558638 -- ss 0.830175 -- cst 0.451047\n",
      "Step 15 -- rs 0.128236-- rr 0.606654 -- ss 0.819267 -- cst 0.415276\n",
      "Step 20 -- rs 0.108551-- rr 0.636439 -- ss 0.808112 -- cst 0.386276\n",
      "Step 25 -- rs 0.098144-- rr 0.651337 -- ss 0.804406 -- cst 0.370273\n",
      "Step 30 -- rs 0.091919-- rr 0.687369 -- ss 0.805823 -- cst 0.345323\n",
      "Step 35 -- rs 0.080947-- rr 0.736391 -- ss 0.801702 -- cst 0.311900\n",
      "Step 40 -- rs 0.071450-- rr 0.734553 -- ss 0.794562 -- cst 0.306893\n",
      "Step 45 -- rs 0.072170-- rr 0.781344 -- ss 0.798373 -- cst 0.282312\n",
      "Step 50 -- rs 0.072222-- rr 0.795575 -- ss 0.798881 -- cst 0.274994\n",
      "Step 55 -- rs 0.072438-- rr 0.812306 -- ss 0.799412 -- cst 0.266579\n",
      "Step 60 -- rs 0.071878-- rr 0.832059 -- ss 0.799556 -- cst 0.256071\n",
      "Step 65 -- rs 0.070966-- rr 0.836287 -- ss 0.799574 -- cst 0.253035\n",
      "Step 70 -- rs 0.072995-- rr 0.856626 -- ss 0.801294 -- cst 0.244035\n",
      "Step 75 -- rs 0.073904-- rr 0.873162 -- ss 0.802494 -- cst 0.236076\n",
      "Step 80 -- rs 0.074439-- rr 0.882848 -- ss 0.804224 -- cst 0.230903\n",
      "Step 85 -- rs 0.070002-- rr 0.869263 -- ss 0.803925 -- cst 0.233408\n",
      "Step 90 -- rs 0.073089-- rr 0.895879 -- ss 0.806533 -- cst 0.221883\n",
      "Step 95 -- rs 0.071768-- rr 0.896136 -- ss 0.806899 -- cst 0.220251\n",
      "Step 100 -- rs 0.073635-- rr 0.910488 -- ss 0.809452 -- cst 0.213666\n",
      "Step 105 -- rs 0.072391-- rr 0.910759 -- ss 0.810601 -- cst 0.211711\n",
      "Step 110 -- rs 0.074761-- rr 0.922322 -- ss 0.813705 -- cst 0.206747\n",
      "Step 115 -- rs 0.073570-- rr 0.920451 -- ss 0.816344 -- cst 0.205173\n",
      "Step 120 -- rs 0.073786-- rr 0.921830 -- ss 0.817627 -- cst 0.204058\n",
      "Step 125 -- rs 0.073057-- rr 0.919692 -- ss 0.818564 -- cst 0.203929\n",
      "Step 130 -- rs 0.073423-- rr 0.921143 -- ss 0.816726 -- cst 0.204489\n",
      "Step 135 -- rs 0.072407-- rr 0.916846 -- ss 0.820209 -- cst 0.203879\n",
      "Step 140 -- rs 0.073530-- rr 0.921108 -- ss 0.820910 -- cst 0.202522\n",
      "Step 145 -- rs 0.071576-- rr 0.913191 -- ss 0.821791 -- cst 0.204085\n",
      "Step 150 -- rs 0.070383-- rr 0.905993 -- ss 0.818878 -- cst 0.207948\n",
      "Step 155 -- rs 0.073432-- rr 0.921585 -- ss 0.820636 -- cst 0.202322\n",
      "Step 160 -- rs 0.071795-- rr 0.915596 -- ss 0.818936 -- cst 0.204529\n",
      "Step 165 -- rs 0.073250-- rr 0.920746 -- ss 0.820711 -- cst 0.202521\n",
      "Step 170 -- rs 0.074033-- rr 0.922831 -- ss 0.820137 -- cst 0.202549\n",
      "Step 175 -- rs 0.073332-- rr 0.921243 -- ss 0.821566 -- cst 0.201928\n",
      "Step 180 -- rs 0.072749-- rr 0.919193 -- ss 0.822266 -- cst 0.202020\n",
      "Step 185 -- rs 0.070227-- rr 0.904459 -- ss 0.816923 -- cst 0.209537\n",
      "Step 190 -- rs 0.072940-- rr 0.919562 -- ss 0.820632 -- cst 0.202843\n",
      "Step 195 -- rs 0.071922-- rr 0.915178 -- ss 0.822983 -- cst 0.202841\n"
     ]
    }
   ],
   "source": [
    "# Optimising the circuit\n",
    "\n",
    "cst_history = []\n",
    "rr_history = []\n",
    "ss_history = []\n",
    "rs_history = []\n",
    "par_history = [init_pars]\n",
    "pars = init_pars\n",
    "\n",
    "for i in range(n_steps):      \n",
    "    \n",
    "    if i % log_step == 0:\n",
    "        cst = cost(pars, A=A, B=B,gate_sequence=random_gate_sequence)\n",
    "        rr = tr_rr(pars, A=A,gate_sequence=random_gate_sequence)\n",
    "        ss = tr_ss(pars, B=B,gate_sequence=random_gate_sequence)\n",
    "        rs = tr_rs(pars, A=A, B=B,gate_sequence=random_gate_sequence)\n",
    "        cst_history.append([i, cst])\n",
    "        rr_history.append([i, rr])\n",
    "        ss_history.append([i, ss])\n",
    "        rs_history.append([i, rs])\n",
    "        print(\"Step {} -- rs {:2f}-- rr {:2f} -- ss {:2f} -- cst {:2f}\".\n",
    "              format(i, rs, rr, ss, cst))\n",
    "        \n",
    "    \n",
    "    # Sample a batch of pairs\n",
    "    selectA = np.random.choice(range(len(A)), size=(batch_size,), replace=True)\n",
    "    selectB = np.random.choice(range(len(B)), size=(batch_size,), replace=True)\n",
    "    A_batch = [A[s] for s in selectA]\n",
    "    B_batch = [B[s] for s in selectB]\n",
    "    \n",
    "    # Walk one optimization step (using all training samples)\n",
    "    pars = optimizer.step(lambda w: cost(w, A=A_batch, B=B_batch,gate_sequence=random_gate_sequence), pars)\n",
    "    par_history.append(pars)"
   ]
  },
  {
   "cell_type": "code",
   "execution_count": 19,
   "metadata": {},
   "outputs": [
    {
     "data": {
      "image/png": "[encoded data removed]",
      "text/plain": [
       "<Figure size 648x432 with 2 Axes>"
      ]
     },
     "metadata": {},
     "output_type": "display_data"
    }
   ],
   "source": [
    "# Start figure\n",
    "fig = plt.figure(figsize=(9, 6))\n",
    "# Plotting 1: original data\n",
    "ax1 = fig.add_subplot(2, 3, 1)\n",
    "ax1.set_title(\"Original data\", pad=20)\n",
    "ax1.scatter(A[:], np.zeros(len(A)), c='r')\n",
    "ax1.scatter(B[:], np.zeros(len(B)), c='b')\n",
    "ax1.set_ylim((-0.1, 0.1))\n",
    "ax1.set_xlim((-2, 2))\n",
    "    \n",
    "# Plotting: cost\n",
    "ax2 = fig.add_subplot(2, 3, 3)\n",
    "title = 'Seed: '+str(11)\n",
    "ax2.set_title(title, pad=20)\n",
    "cst_history = np.array(cst_history)\n",
    "rr_history = np.array(rr_history)\n",
    "ss_history = np.array(ss_history)\n",
    "rs_history = np.array(rs_history)\n",
    "ax2.plot(cst_history[:, 0], cst_history[:, 1], color='blue', marker='', linestyle='-', linewidth=2.5, label=\"cost\")\n",
    "ax2.plot(rr_history[:, 0], rr_history[:, 1], color='red', marker='', linestyle='--', linewidth=2.5, label=\"tr rr\")\n",
    "ax2.plot(ss_history[:, 0], ss_history[:, 1], color='red', marker='', linestyle=':', linewidth=2.5, label=\"tr ss\")\n",
    "ax2.plot(rs_history[:, 0], rs_history[:, 1], color='red', marker='', linestyle='-.', linewidth=2.5, label=\"tr rs\")\n",
    "plt.legend(fancybox=True, framealpha=0.5, loc='lower left')\n",
    "ax2.set_ylim((0, 1))\n",
    "ax2.set_xlabel(\"steps\")"
   ]
  }
 ],
 "metadata": {
  "kernelspec": {
   "display_name": "Python 3",
   "language": "python",
   "name": "python3"
  },
  "language_info": {
   "codemirror_mode": {
    "name": "ipython",
    "version": 3
   },
   "file_extension": ".py",
   "mimetype": "text/x-python",
   "name": "python",
   "nbconvert_exporter": "python",
   "pygments_lexer": "ipython3",
   "version": "3.8.3"
  }
 },
 "nbformat": 4,
 "nbformat_minor": 2
}
