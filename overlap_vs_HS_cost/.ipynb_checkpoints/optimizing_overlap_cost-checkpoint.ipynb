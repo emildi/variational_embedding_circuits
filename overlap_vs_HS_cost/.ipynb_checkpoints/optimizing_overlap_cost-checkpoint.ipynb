{
 "cells": [
  {
   "cell_type": "code",
   "execution_count": 1,
   "metadata": {},
   "outputs": [],
   "source": [
    "import pennylane as qml\n",
    "from pennylane import numpy as np\n",
    "from embeddings_circuit import embedding_circuit\n",
    "import matplotlib.pyplot as plt\n",
    "import dill as pickle\n",
    "import time\n",
    "import seaborn as sns\n",
    "sns.set(context='notebook', font='serif')"
   ]
  },
  {
   "cell_type": "code",
   "execution_count": 2,
   "metadata": {},
   "outputs": [],
   "source": [
    "CSWAP = np.array([[1, 0, 0, 0, 0, 0, 0, 0],\n",
    "                  [0, 1, 0, 0, 0, 0, 0, 0],\n",
    "                  [0, 0, 1, 0, 0, 0, 0, 0],\n",
    "                  [0, 0, 0, 1, 0, 0, 0, 0],\n",
    "                  [0, 0, 0, 0, 1, 0, 0, 0],\n",
    "                  [0, 0, 0, 0, 0, 0, 1, 0],\n",
    "                  [0, 0, 0, 0, 0, 1, 0, 0],\n",
    "                  [0, 0, 0, 0, 0, 0, 0, 1]])"
   ]
  },
  {
   "cell_type": "code",
   "execution_count": 3,
   "metadata": {},
   "outputs": [],
   "source": [
    "def featmap(x,weights,wires):\n",
    "    return embedding_circuit(x,weights,wires)"
   ]
  },
  {
   "cell_type": "code",
   "execution_count": 4,
   "metadata": {},
   "outputs": [],
   "source": [
    "n_layers = 4  # number of layers for featuremap, if applicable\n",
    "n_inp = 1  # number of wires that feature map acts on\n",
    "n_steps = 300 # steps of GD performed\n",
    "log_step = 5  # how often the test error is calculated\n",
    "batch_size = 2  # how many pairs are sampled in each training step\n",
    "step_size = 0.05\n",
    "n_all = 2*n_inp + 1\n",
    "\n",
    "optimizer = qml.RMSPropOptimizer(stepsize=step_size)\n",
    "dev = qml.device('default.qubit', wires=n_all)"
   ]
  },
  {
   "cell_type": "code",
   "execution_count": null,
   "metadata": {},
   "outputs": [],
   "source": [
    "X = np.loadtxt(\"X_1d_sep.txt\")  # load features\n",
    "Y = np.loadtxt(\"Y_1d_sep.txt\")  # load labels\n",
    "\n",
    "# Divide inputs into classes\n",
    "A = X[Y == -1]\n",
    "B = X[Y == 1]"
   ]
  },
  {
   "cell_type": "code",
   "execution_count": 6,
   "metadata": {},
   "outputs": [],
   "source": [
    "init_pars = []\n",
    "for i in range(n_layers):\n",
    "    pars = [0.001 for j in range(n_inp)]\n",
    "    init_pars.append(pars)"
   ]
  },
  {
   "cell_type": "code",
   "execution_count": 7,
   "metadata": {},
   "outputs": [],
   "source": [
    "@qml.qnode(dev, cache=True)\n",
    "def circuit(weights, x1=None, x2=None):\n",
    "\n",
    "    # Load the two inputs into two different registers\n",
    "    featmap(x1,weights, range(1, n_inp+1))\n",
    "    featmap(x2,weights, range(n_inp+1, 2*n_inp+1))\n",
    "\n",
    "    # Do a SWAP test\n",
    "    qml.Hadamard(wires=0)\n",
    "    for k in range(n_inp):\n",
    "        qml.QubitUnitary(CSWAP, wires=[0, k+1, n_inp+k+1])\n",
    "    qml.Hadamard(wires=0)\n",
    "\n",
    "    # Measure overlap by checking ancilla\n",
    "    return qml.expval(qml.PauliZ(0))\n",
    "\n",
    "def tr_rr(weights, A=None):\n",
    "    # Compute intra-class overlap A\n",
    "    tr_rr = 0\n",
    "    for a1 in A:\n",
    "        for a2 in A:\n",
    "            tr_rr += circuit(weights, x1=a1, x2=a2)\n",
    "    tr_rr = tr_rr / len(A)**2\n",
    "    return tr_rr\n",
    "\n",
    "def tr_ss(weights, B=None):\n",
    "    # Compute intra-class overlap B\n",
    "    tr_ss = 0\n",
    "    for b1 in B:\n",
    "        for b2 in B:\n",
    "            tr_ss += circuit(weights, x1=b1, x2=b2)\n",
    "    tr_ss = tr_ss/len(B)**2\n",
    "    return tr_ss\n",
    "\n",
    "def tr_rs(weights, A=None, B=None):\n",
    "    # Compute inter-class overlap A-B\n",
    "    tr_rs = 0\n",
    "    for a in A:\n",
    "        for b in B:\n",
    "            tr_rs += circuit(weights, x1=a, x2=b)\n",
    "    tr_rs = tr_rs/(len(A)*len(B))\n",
    "    return tr_rs\n",
    "\n",
    "def cost(weights, A=None, B=None):\n",
    "\n",
    "    # Fidelity cost,\n",
    "    rr = tr_rr(weights, A=A)\n",
    "    ss = tr_ss(weights, B=B)\n",
    "    rs = tr_rs(weights, A=A, B=B)\n",
    "    distance = - rs + 0.5 * (ss + rr)\n",
    "    return 1 - distance  # min is 0"
   ]
  },
  {
   "cell_type": "code",
   "execution_count": 9,
   "metadata": {},
   "outputs": [],
   "source": []
  },
  {
   "cell_type": "code",
   "execution_count": 10,
   "metadata": {},
   "outputs": [
    {
     "name": "stdout",
     "output_type": "stream",
     "text": [
      "Initial parameters  [[2.1979763050602665], [1.203060801566918], [5.817729631651635], [0.6017195302106214]]\n",
      "Initial cost  0  --  0.9930738658535236\n",
      "Time taken by cost function:  25.575092315673828  seconds\n",
      " 0: ──H───────────────────────────────────────────────────────────────────────────────────────────────────────╭U0──H──┤ ⟨Z⟩ \n",
      " 1: ──RX(-0.802)──RY(2.198)──RX(-0.802)──RY(1.203)──RX(-0.802)──RY(5.818)──RX(-0.802)──RY(0.602)──RX(-0.802)──├U0─────┤     \n",
      " 2: ──RX(1.07)────RY(2.198)──RX(1.07)────RY(1.203)──RX(1.07)────RY(5.818)──RX(1.07)────RY(0.602)──RX(1.07)────╰U0─────┤     \n",
      "U0 =\n",
      "[[1 0 0 0 0 0 0 0]\n",
      " [0 1 0 0 0 0 0 0]\n",
      " [0 0 1 0 0 0 0 0]\n",
      " [0 0 0 1 0 0 0 0]\n",
      " [0 0 0 0 1 0 0 0]\n",
      " [0 0 0 0 0 0 1 0]\n",
      " [0 0 0 0 0 1 0 0]\n",
      " [0 0 0 0 0 0 0 1]]\n",
      "\n"
     ]
    }
   ],
   "source": []
  },
  {
   "cell_type": "code",
   "execution_count": 10,
   "metadata": {},
   "outputs": [
    {
     "name": "stdout",
     "output_type": "stream",
     "text": [
      "Step 0 -- rs 0.630934-- rr 0.678287 -- ss 0.596345 -- cst 0.993618\n",
      "Step 5 -- rs 0.576883-- rr 0.677360 -- ss 0.636323 -- cst 0.920042\n",
      "Step 10 -- rs 0.498550-- rr 0.674745 -- ss 0.696585 -- cst 0.812885\n",
      "Step 15 -- rs 0.440135-- rr 0.680727 -- ss 0.736060 -- cst 0.731742\n",
      "Step 20 -- rs 0.375155-- rr 0.682218 -- ss 0.785338 -- cst 0.641377\n",
      "Step 25 -- rs 0.316345-- rr 0.683287 -- ss 0.830515 -- cst 0.559444\n",
      "Step 30 -- rs 0.273980-- rr 0.683037 -- ss 0.867099 -- cst 0.498912\n",
      "Step 35 -- rs 0.247009-- rr 0.691506 -- ss 0.887871 -- cst 0.457321\n",
      "Step 40 -- rs 0.218558-- rr 0.706667 -- ss 0.907372 -- cst 0.411538\n",
      "Step 45 -- rs 0.199745-- rr 0.720172 -- ss 0.919475 -- cst 0.379922\n",
      "Step 50 -- rs 0.178473-- rr 0.741357 -- ss 0.930816 -- cst 0.342387\n",
      "Step 55 -- rs 0.163642-- rr 0.755178 -- ss 0.946396 -- cst 0.312855\n",
      "Step 60 -- rs 0.151944-- rr 0.773384 -- ss 0.945180 -- cst 0.292662\n",
      "Step 65 -- rs 0.134910-- rr 0.799695 -- ss 0.946759 -- cst 0.261683\n",
      "Step 70 -- rs 0.120027-- rr 0.822317 -- ss 0.949806 -- cst 0.233965\n",
      "Step 75 -- rs 0.106570-- rr 0.841561 -- ss 0.956023 -- cst 0.207778\n",
      "Step 80 -- rs 0.099974-- rr 0.852906 -- ss 0.968170 -- cst 0.189437\n",
      "Step 85 -- rs 0.091747-- rr 0.866817 -- ss 0.973664 -- cst 0.171507\n",
      "Step 90 -- rs 0.081813-- rr 0.880690 -- ss 0.974560 -- cst 0.154187\n",
      "Step 95 -- rs 0.073668-- rr 0.890720 -- ss 0.974087 -- cst 0.141265\n",
      "Step 100 -- rs 0.072283-- rr 0.898405 -- ss 0.979211 -- cst 0.133475\n",
      "Step 105 -- rs 0.066833-- rr 0.907222 -- ss 0.980881 -- cst 0.122782\n",
      "Step 110 -- rs 0.060684-- rr 0.906681 -- ss 0.976495 -- cst 0.119096\n",
      "Step 115 -- rs 0.063198-- rr 0.912783 -- ss 0.983300 -- cst 0.115156\n",
      "Step 120 -- rs 0.065488-- rr 0.914549 -- ss 0.984841 -- cst 0.115792\n",
      "Step 125 -- rs 0.057948-- rr 0.909110 -- ss 0.979552 -- cst 0.113617\n",
      "Step 130 -- rs 0.056693-- rr 0.912088 -- ss 0.983236 -- cst 0.109030\n",
      "Step 135 -- rs 0.056602-- rr 0.914378 -- ss 0.985033 -- cst 0.106897\n",
      "Step 140 -- rs 0.062160-- rr 0.918619 -- ss 0.986600 -- cst 0.109551\n",
      "Step 145 -- rs 0.055660-- rr 0.914555 -- ss 0.985498 -- cst 0.105633\n",
      "Step 150 -- rs 0.054657-- rr 0.911696 -- ss 0.984116 -- cst 0.106751\n",
      "Step 155 -- rs 0.055270-- rr 0.915343 -- ss 0.986299 -- cst 0.104449\n",
      "Step 160 -- rs 0.057532-- rr 0.916994 -- ss 0.986672 -- cst 0.105699\n",
      "Step 165 -- rs 0.053713-- rr 0.913812 -- ss 0.985941 -- cst 0.103836\n",
      "Step 170 -- rs 0.053663-- rr 0.911169 -- ss 0.985060 -- cst 0.105549\n",
      "Step 175 -- rs 0.052970-- rr 0.914905 -- ss 0.987079 -- cst 0.101978\n",
      "Step 180 -- rs 0.052417-- rr 0.913475 -- ss 0.987021 -- cst 0.102169\n",
      "Step 185 -- rs 0.052161-- rr 0.912405 -- ss 0.987090 -- cst 0.102414\n",
      "Step 190 -- rs 0.051676-- rr 0.914962 -- ss 0.987877 -- cst 0.100257\n",
      "Step 195 -- rs 0.051825-- rr 0.916135 -- ss 0.987842 -- cst 0.099836\n",
      "Step 200 -- rs 0.054094-- rr 0.919172 -- ss 0.987489 -- cst 0.100763\n",
      "Step 205 -- rs 0.053454-- rr 0.919121 -- ss 0.987413 -- cst 0.100187\n",
      "Step 210 -- rs 0.050954-- rr 0.916720 -- ss 0.987877 -- cst 0.098656\n",
      "Step 215 -- rs 0.050451-- rr 0.916999 -- ss 0.987967 -- cst 0.097968\n",
      "Step 220 -- rs 0.050634-- rr 0.917510 -- ss 0.987862 -- cst 0.097947\n",
      "Step 225 -- rs 0.049989-- rr 0.915451 -- ss 0.988102 -- cst 0.098212\n",
      "Step 230 -- rs 0.049814-- rr 0.915428 -- ss 0.988302 -- cst 0.097949\n",
      "Step 235 -- rs 0.049812-- rr 0.917693 -- ss 0.988123 -- cst 0.096904\n",
      "Step 240 -- rs 0.049955-- rr 0.918096 -- ss 0.987887 -- cst 0.096963\n",
      "Step 245 -- rs 0.049728-- rr 0.917738 -- ss 0.987934 -- cst 0.096892\n",
      "Step 250 -- rs 0.050728-- rr 0.919744 -- ss 0.987400 -- cst 0.097156\n",
      "Step 255 -- rs 0.050588-- rr 0.914443 -- ss 0.988380 -- cst 0.099177\n",
      "Step 260 -- rs 0.050512-- rr 0.920683 -- ss 0.987178 -- cst 0.096581\n",
      "Step 265 -- rs 0.049706-- rr 0.920135 -- ss 0.987389 -- cst 0.095944\n",
      "Step 270 -- rs 0.049052-- rr 0.919626 -- ss 0.987728 -- cst 0.095375\n",
      "Step 275 -- rs 0.050211-- rr 0.915334 -- ss 0.988665 -- cst 0.098212\n",
      "Step 280 -- rs 0.048274-- rr 0.918534 -- ss 0.988223 -- cst 0.094896\n",
      "Step 285 -- rs 0.049189-- rr 0.916559 -- ss 0.988750 -- cst 0.096534\n",
      "Step 290 -- rs 0.049032-- rr 0.921864 -- ss 0.986822 -- cst 0.094689\n",
      "Step 295 -- rs 0.047939-- rr 0.919468 -- ss 0.988022 -- cst 0.094194\n",
      "Total time taken:  39.22258322238922  minutes\n",
      "Time taken for optimization:  9.085919630527496  minutes\n"
     ]
    }
   ],
   "source": [
    "cst_history = []\n",
    "rr_history = []\n",
    "ss_history = []\n",
    "rs_history = []\n",
    "par_history = [init_pars]\n",
    "pars = init_pars\n",
    "\n",
    "total_opt_time = 0\n",
    "for i in range(n_steps):\n",
    "\n",
    "    if i % log_step == 0:\n",
    "        cst = cost(pars, A=A, B=B)\n",
    "        rr = tr_rr(pars, A=A)\n",
    "        ss = tr_ss(pars, B=B)\n",
    "        rs = tr_rs(pars, A=A, B=B)\n",
    "        cst_history.append([i, cst])\n",
    "        rr_history.append([i, rr])\n",
    "        ss_history.append([i, ss])\n",
    "        rs_history.append([i, rs])\n",
    "        print(\"Step {} -- rs {:2f}-- rr {:2f} -- ss {:2f} -- cst {:2f}\".\n",
    "              format(i, rs, rr, ss, cst))\n",
    "    \n",
    "    \n",
    "    # Sample a batch of pairs\n",
    "    selectA = np.random.choice(range(len(A)), size=(batch_size,), replace=True)\n",
    "    selectB = np.random.choice(range(len(B)), size=(batch_size,), replace=True)\n",
    "    A_batch = [A[s] for s in selectA]\n",
    "    B_batch = [B[s] for s in selectB]\n",
    "        \n",
    "    \n",
    "    # Walk one optimization step (using all training samples)\n",
    "    \n",
    "    opt_time_start = time.time()\n",
    "    pars = optimizer.step(lambda w: cost(w, A=A_batch, B=B_batch), pars)\n",
    "    #pars = optimizer.step(lambda w: tr_rs(w, A=A_batch, B=B_batch), pars)\n",
    "    par_history.append(pars)\n",
    "    opt_time_end = time.time()\n",
    "    total_opt_time = total_opt_time + opt_time_end - opt_time_start\n",
    "    \n",
    "    \n",
    "print('Time taken for optimization: ', total_opt_time/60, ' minutes')"
   ]
  },
  {
   "cell_type": "code",
   "execution_count": 13,
   "metadata": {},
   "outputs": [
    {
     "data": {
      "text/plain": [
       "Text(0.5, 0, 'steps')"
      ]
     },
     "execution_count": 13,
     "metadata": {},
     "output_type": "execute_result"
    },
    {
     "data": {
      "image/png": "[encoded data removed]",
      "text/plain": [
       "<Figure size 648x432 with 2 Axes>"
      ]
     },
     "metadata": {},
     "output_type": "display_data"
    }
   ],
   "source": [
    "# Start figure\n",
    "fig = plt.figure(figsize=(9, 6))\n",
    "# Plotting 1: original data\n",
    "ax1 = fig.add_subplot(2, 3, 1)\n",
    "ax1.set_title(\"Original data\", pad=20)\n",
    "ax1.scatter(A[:], np.zeros(len(A)), c='r')\n",
    "ax1.scatter(B[:], np.zeros(len(B)), c='b')\n",
    "ax1.set_ylim((-0.1, 0.1))\n",
    "ax1.set_xlim((-2.1, 2.1))\n",
    "\n",
    "    \n",
    "ax2 = fig.add_subplot(2, 3, 3)\n",
    "ax2.set_title(\"Optimizing the HS cost\", pad=20)\n",
    "cst_history = np.array(cst_history)\n",
    "rr_history = np.array(rr_history)\n",
    "ss_history = np.array(ss_history)\n",
    "rs_history = np.array(rs_history)\n",
    "ax2.plot(cst_history[:, 0], cst_history[:, 1],color='blue', marker='', linestyle='-', linewidth=2.5, label=\"cost\")\n",
    "ax2.plot(rr_history[:, 0], rr_history[:, 1],color='red', marker='', linestyle='--', linewidth=2.5, label=\"tr rr\")\n",
    "ax2.plot(ss_history[:, 0], ss_history[:, 1],color='red', marker='', linestyle=':', linewidth=2.5, label=\"tr ss\")\n",
    "ax2.plot(rs_history[:, 0], rs_history[:, 1],color='red', marker='', linestyle='-.', linewidth=2.5, label=\"tr rs\")\n",
    "plt.legend(fancybox=True, framealpha=0.5, loc='center right')\n",
    "ax2.set_ylim((0, 1))\n",
    "ax2.set_xlabel(\"steps\")"
   ]
  },
  {
   "cell_type": "code",
   "execution_count": null,
   "metadata": {},
   "outputs": [],
   "source": []
  }
 ],
 "metadata": {
  "kernelspec": {
   "display_name": "Python 3",
   "language": "python",
   "name": "python3"
  },
  "language_info": {
   "codemirror_mode": {
    "name": "ipython",
    "version": 3
   },
   "file_extension": ".py",
   "mimetype": "text/x-python",
   "name": "python",
   "nbconvert_exporter": "python",
   "pygments_lexer": "ipython3",
   "version": "3.8.3"
  }
 },
 "nbformat": 4,
 "nbformat_minor": 2
}
